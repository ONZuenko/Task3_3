{
 "cells": [
  {
   "cell_type": "code",
   "execution_count": 25,
   "id": "c64921b2",
   "metadata": {},
   "outputs": [],
   "source": [
    "import findspark\n",
    "findspark.init('C:\\spark-3.3.1-bin-hadoop-3')\n",
    "from pyspark.sql import SparkSession\n",
    "spark=SparkSession.builder.master(\"local\").\\\n",
    "    appName(\"Word Count\").\\\n",
    "    config(\"spark.driver.BindAdress\", \"localhost\").\\\n",
    "    config(\"spark.ui.port\", \"4040\").\\\n",
    "    getOrCreate()"
   ]
  },
  {
   "cell_type": "code",
   "execution_count": null,
   "id": "cdb3c090",
   "metadata": {},
   "outputs": [],
   "source": [
    "#a.       Создайте схему будущего фрейма данных. Схема должна включать следующие атрибуты:\n",
    "#·   id -  уникальный идентификатор посетителя сайта. Тип – последовательность чисел фиксированной длины. Данное поле не является первичным ключом.\n",
    "#·   timestamp – дата и время события в формате unix timestamp.\n",
    "#·   type – тип события, значение из списка (факт посещения(visit), клик по визуальному элементу страницы(click), скролл(scroll), перед на другую страницу(move)).\n",
    "#·   page_id – id текущей страницы. Тип - последовательность чисел фиксированной длины.\n",
    "#·   tag – каждая страница с новостью размечается редакцией специальными тегами, которые отражают тематику конкретной новости со страницы. Возможный список тематик: политика, спорт, медицина и т.д.\n",
    "#·   sign – наличие у пользователя личного кабинета. Значения – True/False.\n",
    "#b.       Создайте датафрейм с описанной выше схемой данных.\n",
    "#c.       Наполните датафрейм данными. Пример:\n",
    "#(12345, 1667627426, \"click\", 101, \"Sport”, False)"
   ]
  },
  {
   "cell_type": "code",
   "execution_count": 70,
   "id": "86027a4b",
   "metadata": {},
   "outputs": [
    {
     "name": "stdout",
     "output_type": "stream",
     "text": [
      "root\n",
      " |-- id: integer (nullable = true)\n",
      " |-- timestamp: long (nullable = true)\n",
      " |-- type: string (nullable = true)\n",
      " |-- page_id: integer (nullable = true)\n",
      " |-- tag: string (nullable = true)\n",
      " |-- sign: boolean (nullable = true)\n",
      "\n",
      "+---+----------+------+-------+--------+-----+\n",
      "| id| timestamp|  type|page_id|     tag| sign|\n",
      "+---+----------+------+-------+--------+-----+\n",
      "|  1|1643702479| click|      3|politics| true|\n",
      "|  2|1646125279|scroll|      4|   sport| true|\n",
      "|  3|1667811967|  move|      4|medicine| true|\n",
      "|  4|1668456367| click|      3|politics|false|\n",
      "|  5|1668990178|scroll|      9|medicine|false|\n",
      "|  4|1669802381|scroll|      4|   sport| true|\n",
      "|  3|1642931693|  move|      4|medicine| true|\n",
      "|  2|1642287293| click|      3|politics|false|\n",
      "|  1|1641708482|scroll|      9|medicine|false|\n",
      "+---+----------+------+-------+--------+-----+\n",
      "\n"
     ]
    }
   ],
   "source": [
    "import pyspark.sql.types as T\n",
    "import pyspark.sql\n",
    "import pyspark.sql.functions\n",
    "import datetime\n",
    "simpleData = ((1, \"02-01-2022 11:01:19\", \"click\", 3, \"politics\", True),\n",
    "    (2, \"03-01-2022 12:01:19\",\"scroll\", 4, \"sport\", True),\n",
    "    (3, \"11-07-2022 12:06:07\",\"move\", 4, \"medicine\", True),\n",
    "    (4, \"11-14-2022 23:06:07\", \"click\", 3, \"politics\", False),\n",
    "    (5, \"11-21-2022 03:22:58\",\"scroll\", 9, \"medicine\", False),\n",
    "    (4, \"11-30-2022 12:59:41\",\"scroll\", 4, \"sport\", True),\n",
    "    (3, \"01-23-2022 12:54:53\",\"move\", 4, \"medicine\", True),\n",
    "    (2, \"01-16-2022 01:54:53\", \"click\", 3, \"politics\", False),\n",
    "    (1, \"01-09-2022 09:08:02\",\"scroll\", 9, \"medicine\", False))\n",
    "schema = T.StructType([ \\\n",
    "    T.StructField(\"id\", T.IntegerType(), True), \\\n",
    "    T.StructField(\"timestamp\", T.StringType(),True), \\\n",
    "    T.StructField(\"type\", T.StringType(),True), \\\n",
    "    T.StructField(\"page_id\", T.IntegerType(), True), \\\n",
    "    T.StructField(\"tag\", T.StringType(), True), \\\n",
    "    T.StructField(\"sign\", T.BooleanType(), True) \\\n",
    "])\n",
    "df = spark.createDataFrame(spark.sparkContext.parallelize(simpleData),schema)\n",
    "df1=df.select(col(\"id\"), unix_timestamp(\"timestamp\", \"MM-dd-yyyy HH:mm:ss\").alias(\"timestamp\"), col(\"type\"),col(\"page_id\"), col(\"tag\"), col(\"sign\"))\n",
    "df1.printSchema()\n",
    "df1.show()"
   ]
  },
  {
   "cell_type": "code",
   "execution_count": 88,
   "id": "1d3c1f48",
   "metadata": {},
   "outputs": [
    {
     "name": "stdout",
     "output_type": "stream",
     "text": [
      "+---+-----+\n",
      "| id|count|\n",
      "+---+-----+\n",
      "|  1|    2|\n",
      "|  2|    2|\n",
      "|  3|    2|\n",
      "|  4|    2|\n",
      "|  5|    1|\n",
      "+---+-----+\n",
      "\n"
     ]
    }
   ],
   "source": [
    "#·   Вывести топ-5 самых активных посетителей сайта\n",
    "df2=df1.groupby(\"id\").count().orderBy(col(\"id\")).show()"
   ]
  },
  {
   "cell_type": "code",
   "execution_count": 152,
   "id": "61e25145",
   "metadata": {},
   "outputs": [
    {
     "data": {
      "text/plain": [
       "55.55555555555556"
      ]
     },
     "execution_count": 152,
     "metadata": {},
     "output_type": "execute_result"
    }
   ],
   "source": [
    "#·   Посчитать процент посетителей, у которых есть ЛК\n",
    "p=df1.filter(col(\"sign\")==True).count()/df1.count()*100\n",
    "p"
   ]
  },
  {
   "cell_type": "code",
   "execution_count": 139,
   "id": "e4bad9cf",
   "metadata": {},
   "outputs": [
    {
     "name": "stdout",
     "output_type": "stream",
     "text": [
      "+-------+-----+\n",
      "|page_id|count|\n",
      "+-------+-----+\n",
      "|      3|    3|\n",
      "+-------+-----+\n",
      "\n"
     ]
    }
   ],
   "source": [
    "#·   Вывести топ-5 страниц сайта по показателю общего кол-ва кликов на данной странице\n",
    "df3=df1.filter(col(\"type\")==\"click\").groupby(\"page_id\").count().orderBy(col(\"page_id\")).show()\n"
   ]
  },
  {
   "cell_type": "code",
   "execution_count": 143,
   "id": "2acf4e94",
   "metadata": {},
   "outputs": [
    {
     "name": "stdout",
     "output_type": "stream",
     "text": [
      "+---+----------+------+-------+--------+-----+-----+\n",
      "| id| timestamp|  type|page_id|     tag| sign|timed|\n",
      "+---+----------+------+-------+--------+-----+-----+\n",
      "|  1|1643702479| click|      3|politics| true| 8-12|\n",
      "|  2|1646125279|scroll|      4|   sport| true| 8-12|\n",
      "|  3|1667811967|  move|      4|medicine| true| 8-12|\n",
      "|  4|1668456367| click|      3|politics|false|20-24|\n",
      "|  5|1668990178|scroll|      9|medicine|false|  0-4|\n",
      "|  4|1669802381|scroll|      4|   sport| true| 8-12|\n",
      "|  3|1642931693|  move|      4|medicine| true| 8-12|\n",
      "|  2|1642287293| click|      3|politics|false|  0-4|\n",
      "|  1|1641708482|scroll|      9|medicine|false| 8-12|\n",
      "+---+----------+------+-------+--------+-----+-----+\n",
      "\n"
     ]
    }
   ],
   "source": [
    "#·   Добавьте столбец к фрейму данных со значением временного диапазона в рамках суток с размером окна – 4 часа(0-4, 4-8, 8-12 и т.д.)\n",
    "from pyspark.sql.functions import when, lit, col\n",
    "df4=df1.withColumn(\"timed\", when(((hour(from_unixtime(\"timestamp\")))>=0) & ((hour(from_unixtime(\"timestamp\")))<=4), lit(\"0-4\"))\n",
    "    .when(((hour(from_unixtime(\"timestamp\")))>=4) & ((hour(from_unixtime(\"timestamp\")))<=8), lit(\"4-8\"))\n",
    "    .when(((hour(from_unixtime(\"timestamp\")))>=8) & ((hour(from_unixtime(\"timestamp\")))<=12), lit(\"8-12\"))\n",
    "    .when(((hour(from_unixtime(\"timestamp\")))>=12) & ((hour(from_unixtime(\"timestamp\")))<=16), lit(\"12-16\"))\n",
    "    .when(((hour(from_unixtime(\"timestamp\")))>=16) & ((hour(from_unixtime(\"timestamp\")))<=20), lit(\"16-20\"))\n",
    "    .otherwise(lit(\"20-24\")))\n",
    "df4.show()"
   ]
  },
  {
   "cell_type": "code",
   "execution_count": 146,
   "id": "4ff4e998",
   "metadata": {},
   "outputs": [
    {
     "name": "stdout",
     "output_type": "stream",
     "text": [
      "+-----+-----+\n",
      "|timed|count|\n",
      "+-----+-----+\n",
      "| 8-12|    6|\n",
      "+-----+-----+\n",
      "only showing top 1 row\n",
      "\n"
     ]
    }
   ],
   "source": [
    "#·   Выведите временной промежуток на основе предыдущего задания, в течение которого было больше всего активностей на сайте.\n",
    "df5=df4.groupby(\"timed\").count().orderBy(col(\"count\").desc()).show(1)"
   ]
  },
  {
   "cell_type": "code",
   "execution_count": null,
   "id": "be2bb377",
   "metadata": {},
   "outputs": [],
   "source": [
    "#·   Создайте второй фрейм данных, который будет содержать информацию о ЛК посетителя сайта со следующим списком атрибутов\n",
    "#1.       Id – уникальный идентификатор личного кабинета\n",
    "#2.       User_id – уникальный идентификатор посетителя\n",
    "#3.       ФИО посетителя\n",
    "#4.    Дату рождения посетителя \n",
    "#5.       Дата создания ЛК"
   ]
  },
  {
   "cell_type": "code",
   "execution_count": 157,
   "id": "26d956bb",
   "metadata": {},
   "outputs": [
    {
     "name": "stdout",
     "output_type": "stream",
     "text": [
      "root\n",
      " |-- id: integer (nullable = false)\n",
      " |-- User_id: integer (nullable = true)\n",
      " |-- fio: string (nullable = true)\n",
      " |-- birth: date (nullable = true)\n",
      " |-- lkdate: date (nullable = true)\n",
      "\n",
      "+---+-------+--------------------+----------+----------+\n",
      "| id|User_id|                 fio|     birth|    lkdate|\n",
      "+---+-------+--------------------+----------+----------+\n",
      "|  1|      1|Абрамов Илья Бори...|1978-08-03|2002-02-28|\n",
      "|  2|      2|Бажов Александр В...|1971-12-27|2001-12-03|\n",
      "|  3|      3|Васильева Оксана ...|1983-01-20|2017-11-10|\n",
      "|  4|      4|Грешковец Андрей ...|1951-05-05|2001-07-25|\n",
      "|  5|      5|Дадыкина Валентин...|1940-11-29|2000-01-01|\n",
      "+---+-------+--------------------+----------+----------+\n",
      "\n"
     ]
    }
   ],
   "source": [
    "oneMoreSimpleData = ((1, 1, \"Абрамов Илья Борисович\", datetime.datetime.strptime(\"1978-08-03\", \"%Y-%m-%d\").date(), datetime.datetime.strptime(\"2002-02-28\", \"%Y-%m-%d\").date()),\n",
    "    (2, 2,\"Бажов Александр Викторович\", datetime.datetime.strptime(\"1971-12-27\", \"%Y-%m-%d\").date(), datetime.datetime.strptime(\"2001-12-03\", \"%Y-%m-%d\").date()),\n",
    "    (3, 3,\"Васильева Оксана Валерьевна\", datetime.datetime.strptime(\"1983-01-20\", \"%Y-%m-%d\").date(), datetime.datetime.strptime(\"2017-11-10\", \"%Y-%m-%d\").date()),\n",
    "    (4, 4, \"Грешковец Андрей Макарович\", datetime.datetime.strptime(\"1951-05-05\", \"%Y-%m-%d\").date(), datetime.datetime.strptime(\"2001-07-25\", \"%Y-%m-%d\").date()),\n",
    "    (5, 5,\"Дадыкина Валентина Тимофеевна\", datetime.datetime.strptime(\"1940-11-29\", \"%Y-%m-%d\").date(), datetime.datetime.strptime(\"2000-01-01\", \"%Y-%m-%d\").date()))\n",
    "newschema = T.StructType([ \\\n",
    "    T.StructField(\"id\", T.IntegerType(), False), \\\n",
    "    T.StructField(\"User_id\", T.IntegerType(),True), \\\n",
    "    T.StructField(\"fio\", T.StringType(),True), \\\n",
    "    T.StructField(\"birth\", T.DateType(), True), \\\n",
    "    T.StructField(\"lkdate\", T.DateType(), True) \\\n",
    "])\n",
    "dff = spark.createDataFrame(spark.sparkContext.parallelize(oneMoreSimpleData), newschema)\n",
    "dff.printSchema()\n",
    "dff.show()"
   ]
  },
  {
   "cell_type": "code",
   "execution_count": 165,
   "id": "e9d64ee5",
   "metadata": {},
   "outputs": [
    {
     "name": "stdout",
     "output_type": "stream",
     "text": [
      "+---+-------+--------------------+----------+----------+---+----------+------+-------+-----+----+\n",
      "| id|User_id|                 fio|     birth|    lkdate| id| timestamp|  type|page_id|  tag|sign|\n",
      "+---+-------+--------------------+----------+----------+---+----------+------+-------+-----+----+\n",
      "|  2|      2|Бажов Александр В...|1971-12-27|2001-12-03|  2|1646125279|scroll|      4|sport|true|\n",
      "|  4|      4|Грешковец Андрей ...|1951-05-05|2001-07-25|  4|1669802381|scroll|      4|sport|true|\n",
      "+---+-------+--------------------+----------+----------+---+----------+------+-------+-----+----+\n",
      "\n"
     ]
    }
   ],
   "source": [
    "#·   Вывести фамилии посетителей, которые читали хотя бы одну новость про спорт.\n",
    "dfff=dff.join(df1, dff.id==df1.id).filter(col(\"tag\")==\"sport\").show()"
   ]
  },
  {
   "cell_type": "code",
   "execution_count": null,
   "id": "c3d07729",
   "metadata": {},
   "outputs": [],
   "source": []
  }
 ],
 "metadata": {
  "kernelspec": {
   "display_name": "Python 3 (ipykernel)",
   "language": "python",
   "name": "python3"
  },
  "language_info": {
   "codemirror_mode": {
    "name": "ipython",
    "version": 3
   },
   "file_extension": ".py",
   "mimetype": "text/x-python",
   "name": "python",
   "nbconvert_exporter": "python",
   "pygments_lexer": "ipython3",
   "version": "3.9.13"
  }
 },
 "nbformat": 4,
 "nbformat_minor": 5
}
